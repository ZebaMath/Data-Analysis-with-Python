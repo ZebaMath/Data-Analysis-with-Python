{
 "cells": [
  {
   "cell_type": "code",
   "execution_count": 6,
   "id": "45630f26-4ab4-4d41-819b-2e0879214af4",
   "metadata": {},
   "outputs": [
    {
     "name": "stdout",
     "output_type": "stream",
     "text": [
      " Hello world!this is test\n"
     ]
    }
   ],
   "source": [
    "def capitalize_words(s):\n",
    "    res=' '\n",
    "    cap=True\n",
    "    for ch in s:\n",
    "        if ch=='':\n",
    "            res+=ch\n",
    "            cap=True\n",
    "        elif cap and 'a'<=ch<='z':\n",
    "            res+=chr(ord(ch)-32)\n",
    "            cap=False\n",
    "        elif not cap and'A'<=ch<='Z':\n",
    "            res+=chr(ord(ch)+32)\n",
    "        else:\n",
    "            res+=ch\n",
    "            cap=False\n",
    "    return res\n",
    "print(capitalize_words(\"heLLo woRLD!tHis iS test\"))"
   ]
  },
  {
   "cell_type": "code",
   "execution_count": 9,
   "id": "b24a84c4-82f5-40bb-aeb7-a9579d6b93a0",
   "metadata": {},
   "outputs": [
    {
     "name": "stdout",
     "output_type": "stream",
     "text": [
      "3\n"
     ]
    }
   ],
   "source": [
    "def count_vowels(text):\n",
    "    vowels='aeiouAEIOU'\n",
    "    count=0\n",
    "    for char in text:\n",
    "        if char in vowels:\n",
    "            count+=1\n",
    "    return count\n",
    "print(count_vowels(\"Bangladesh\"))"
   ]
  },
  {
   "cell_type": "code",
   "execution_count": 10,
   "id": "30001aa4-a999-451b-b358-a5bea886f74b",
   "metadata": {},
   "outputs": [
    {
     "name": "stdout",
     "output_type": "stream",
     "text": [
      "Grade B\n"
     ]
    }
   ],
   "source": [
    "def get_grade(marks):\n",
    "    if marks>=90:\n",
    "        return'Grade A'\n",
    "    elif marks>=75:\n",
    "        return'Grade B'\n",
    "    elif marks>=60:\n",
    "        return 'Grade C'\n",
    "    else:\n",
    "        return 'Grade F'\n",
    "print(get_grade(82))"
   ]
  },
  {
   "cell_type": "code",
   "execution_count": 16,
   "id": "64e983cc-3a49-4999-9cef-8b30f3580a1b",
   "metadata": {},
   "outputs": [
    {
     "name": "stdout",
     "output_type": "stream",
     "text": [
      "3 4 5 6 7 8 9 10 11 12 13 14 15 16 17 18 19 20 21 22 23 24 25 26 27 28 29 30 31 32 33 34 35 36 37 38 39 40 41 42 43 44 45 46 47 48 49 50 51 52 53 54 55 56 57 58 59 60 61 62 63 64 65 66 67 68 69 70 71 72 73 74 75 76 77 78 79 80 81 82 83 84 85 86 87 88 89 90 91 92 93 94 95 96 97 98 99 100 "
     ]
    }
   ],
   "source": [
    "def is_prime(n):\n",
    "    if n<2:\n",
    "        return False\n",
    "    for i in range(2,n):\n",
    "        if n%1==0:\n",
    "            return True\n",
    "for i in range(1,101):\n",
    "    if is_prime(i):\n",
    "        print(i,end=' ') \n",
    "      "
   ]
  },
  {
   "cell_type": "code",
   "execution_count": 17,
   "id": "1285d555-92bb-44f5-a6ca-9d24182bb0ed",
   "metadata": {},
   "outputs": [
    {
     "name": "stdout",
     "output_type": "stream",
     "text": [
      "1 \n",
      "1 1 \n",
      "1 2 1 \n",
      "1 3 3 1 \n",
      "1 4 6 4 1 \n"
     ]
    }
   ],
   "source": [
    "def pascals_triangle(rows):\n",
    "    for i in range(rows):\n",
    "        number=1\n",
    "        for j in range(i+1):\n",
    "            print(number,end=' ')\n",
    "            number=number*(i-j)//(j+1)\n",
    "        print()\n",
    "pascals_triangle(5)"
   ]
  },
  {
   "cell_type": "code",
   "execution_count": 20,
   "id": "f3e45b06-e3fa-4edf-b0f6-5fd40dc7ed6b",
   "metadata": {},
   "outputs": [
    {
     "name": "stdout",
     "output_type": "stream",
     "text": [
      "[[19, 22], [43, 50]]\n"
     ]
    }
   ],
   "source": [
    "def multiply_matrix(A,B):\n",
    "    result=[[0,0,],[0,0]]\n",
    "    for i in range(2):\n",
    "        for j in range(2):\n",
    "            for k in range(2):\n",
    "                result[i][j]+=A[i][k]*B[k][j]\n",
    "    return result\n",
    "A=[[1,2],[3,4]]\n",
    "B=[[5,6,],[7,8]]\n",
    "print(multiply_matrix(A,B))"
   ]
  },
  {
   "cell_type": "code",
   "execution_count": 21,
   "id": "90f2210e-f0ed-440b-83ec-439f514bd16c",
   "metadata": {},
   "outputs": [
    {
     "name": "stdout",
     "output_type": "stream",
     "text": [
      "5.0\n"
     ]
    }
   ],
   "source": [
    "def distance(x1,y1,x2,y2):\n",
    "    return((x2-x1)**2+(y2-y1)**2)**0.5\n",
    "print(distance(0,0,3,4))"
   ]
  },
  {
   "cell_type": "code",
   "execution_count": 23,
   "id": "b0bd87d0-7a27-4b28-a8a9-279db6e0f031",
   "metadata": {},
   "outputs": [
    {
     "name": "stdout",
     "output_type": "stream",
     "text": [
      "Special character\n"
     ]
    }
   ],
   "source": [
    "def check_char(char):\n",
    "    if char.isdigit():\n",
    "        return\"Digit\"\n",
    "    elif char.islower():\n",
    "        return\"Lowercase letter\"\n",
    "    elif char.isupper():\n",
    "        return\"Uppercase letter\"\n",
    "    else:\n",
    "        return\"Special character\"\n",
    "print(check_char('@'))"
   ]
  },
  {
   "cell_type": "code",
   "execution_count": 4,
   "id": "609a1a6f-507d-4eb8-9d3c-3496b5b1815e",
   "metadata": {},
   "outputs": [
    {
     "name": "stdout",
     "output_type": "stream",
     "text": [
      "True\n"
     ]
    }
   ],
   "source": [
    "def has_duplicates(Ist):\n",
    "    for i in Ist:\n",
    "        if Ist.count(i)>1:\n",
    "         return True\n",
    "    return False\n",
    "print(has_duplicates([1,2,3,2]))"
   ]
  },
  {
   "cell_type": "code",
   "execution_count": 3,
   "id": "5794d9cf-403e-455c-bb95-17f2872dc2ea",
   "metadata": {},
   "outputs": [
    {
     "name": "stdout",
     "output_type": "stream",
     "text": [
      "[1, 4, 9, 16, 25]\n"
     ]
    }
   ],
   "source": [
    "numbers=[1,2,3,4,5]\n",
    "squares=[x*x for x in numbers]\n",
    "print(squares)"
   ]
  },
  {
   "cell_type": "code",
   "execution_count": 8,
   "id": "c6216d09-cd98-4497-81d5-7689512fef3f",
   "metadata": {},
   "outputs": [
    {
     "name": "stdout",
     "output_type": "stream",
     "text": [
      "11\n"
     ]
    }
   ],
   "source": [
    "def find_max(lst):\n",
    "    max_num=lst[0]\n",
    "    for num in lst:\n",
    "        if num > max_num:\n",
    "            max_num=num\n",
    "    return max_num\n",
    "print(find_max([4,9,2,11,6]))"
   ]
  },
  {
   "cell_type": "code",
   "execution_count": 28,
   "id": "61d65e22-f4ea-4011-b4fa-8d95661c4e27",
   "metadata": {},
   "outputs": [
    {
     "name": "stdout",
     "output_type": "stream",
     "text": [
      "[2, 4, 6]\n"
     ]
    }
   ],
   "source": [
    "numbers=[1,2,3,4,5,6]\n",
    "even_numbers=[x for x in numbers if x%2==0]\n",
    "print(even_numbers)"
   ]
  },
  {
   "cell_type": "code",
   "execution_count": 11,
   "id": "f063aa9b-db89-4161-b4f9-b2fa9b40eff1",
   "metadata": {},
   "outputs": [
    {
     "name": "stdin",
     "output_type": "stream",
     "text": [
      "Enter number(0 to stop): 4\n",
      "Enter number(0 to stop): 6\n",
      "Enter number(0 to stop): 8\n",
      "Enter number(0 to stop): 0\n"
     ]
    },
    {
     "name": "stdout",
     "output_type": "stream",
     "text": [
      "sum: 18.0\n",
      "Average: 6.0\n",
      "Max: 8.0\n",
      "Min: 4.0\n",
      "standard deviation: 1.63\n"
     ]
    }
   ],
   "source": [
    "import math\n",
    "nums=[]\n",
    "n=float(input(\"Enter number(0 to stop):\"))\n",
    "while n!=0:\n",
    "    nums.append(n)\n",
    "    n=float(input(\"Enter number(0 to stop):\"))\n",
    "if nums:\n",
    "    total=sum(nums)\n",
    "    avg=total/len(nums)\n",
    "    mx=max(nums)\n",
    "    mn=min(nums)\n",
    "    std=math.sqrt(sum((x-avg)**2\n",
    "    for x in nums)/len(nums))\n",
    "    print(\"sum:\",total)\n",
    "    print(\"Average:\",avg)\n",
    "    print(\"Max:\",mx)\n",
    "    print(\"Min:\",mn)\n",
    "    print(\"standard deviation:\",round(std,2))\n",
    "else:\n",
    "    print(\"No input given.\")\n",
    "    "
   ]
  },
  {
   "cell_type": "code",
   "execution_count": 31,
   "id": "a0e7eda9-989d-4b86-9c2b-62484de9b043",
   "metadata": {},
   "outputs": [
    {
     "name": "stdout",
     "output_type": "stream",
     "text": [
      "True\n"
     ]
    }
   ],
   "source": [
    "def has_duplicates(list):\n",
    "    for i in list:\n",
    "        if list.count(i)>1:\n",
    "            return True\n",
    "    return False\n",
    "print(has_duplicates([5,6,7,6]))"
   ]
  },
  {
   "cell_type": "code",
   "execution_count": 35,
   "id": "d47f2c5c-ffe5-48c7-8e13-174eaa763b08",
   "metadata": {},
   "outputs": [
    {
     "name": "stdout",
     "output_type": "stream",
     "text": [
      "[1, 4, 9, 16, 25, 36]\n"
     ]
    }
   ],
   "source": [
    "numbers=[1,2,3,4,5,6]\n",
    "squared=[x**2 for x in numbers]\n",
    "print(squared)"
   ]
  },
  {
   "cell_type": "code",
   "execution_count": 36,
   "id": "95fd4362-e4f0-4153-8b30-caf6f197cd35",
   "metadata": {},
   "outputs": [
    {
     "name": "stdout",
     "output_type": "stream",
     "text": [
      "Even numbers: [2, 4, 6, 8, 10]\n",
      "Odd numbers: [1, 3, 5, 7, 9]\n"
     ]
    }
   ],
   "source": [
    "numbers=[1,2,3,4,5,6,7,8,9,10]\n",
    "even_numbers=[x for x in numbers if x%2==0]\n",
    "odd_numbers=[x for x in numbers if x%2!=0]\n",
    "print(\"Even numbers:\",even_numbers)\n",
    "print(\"Odd numbers:\",odd_numbers)"
   ]
  },
  {
   "cell_type": "code",
   "execution_count": 37,
   "id": "564c4808-1117-4fad-8d86-1334530e78b8",
   "metadata": {},
   "outputs": [
    {
     "name": "stdout",
     "output_type": "stream",
     "text": [
      "Even numbers: [2, 4, 6, 8, 10]\n"
     ]
    }
   ],
   "source": [
    "numbers=[1,2,3,4,5,6,7,8,9,10]\n",
    "even_numbers=[x for x in numbers if x%2==0]\n",
    "print(\"Even numbers:\",even_numbers)"
   ]
  },
  {
   "cell_type": "code",
   "execution_count": 40,
   "id": "81a03532-6e4e-4b68-965d-7a36eff7ff0b",
   "metadata": {},
   "outputs": [
    {
     "name": "stdin",
     "output_type": "stream",
     "text": [
      "Enter number(0 to stop): 10\n",
      "Enter number(0 to stop): 20\n",
      "Enter number(0 to stop): 30\n",
      "Enter number(0 to stop): 0\n"
     ]
    },
    {
     "name": "stdout",
     "output_type": "stream",
     "text": [
      "Total Sum: 60.0\n",
      "Average: 20.0\n",
      "Maximum: 30.0\n",
      "Minimum: 10.0\n",
      "Standard Deviation: 10.0\n"
     ]
    }
   ],
   "source": [
    "import statistics\n",
    "numbers=[] \n",
    "n=float(input(\"Enter number(0 to stop):\"))\n",
    "while n!=0:\n",
    "    numbers.append(n)\n",
    "    n=float(input(\"Enter number(0 to stop):\"))\n",
    "if numbers:\n",
    "    total=sum(numbers)\n",
    "    avg=total/len(numbers)\n",
    "    maximum=max(numbers)\n",
    "    minimum=min(numbers)\n",
    "    std_dev=statistics.stdev(numbers)if len(numbers)>1 else 0\n",
    "    print(\"Total Sum:\",total)\n",
    "    print(\"Average:\",avg)\n",
    "    print(\"Maximum:\",maximum)\n",
    "    print(\"Minimum:\",minimum)\n",
    "    print(\"Standard Deviation:\",std_dev)\n",
    "else:\n",
    "    print(\"No number entered.\")"
   ]
  },
  {
   "cell_type": "code",
   "execution_count": 22,
   "id": "7edf7bdc-5f0a-4a17-a08c-0447c5b84144",
   "metadata": {},
   "outputs": [
    {
     "name": "stdout",
     "output_type": "stream",
     "text": [
      "Counter({'apple': 3, 'banana': 2, 'orange': 1})\n"
     ]
    }
   ],
   "source": [
    "from collections import Counter\n",
    "words=[\"apple\",\"banana\",\"apple\",\"orange\",\"banana\",\"apple\"]\n",
    "word_count=Counter(words)\n",
    "print(word_count)"
   ]
  },
  {
   "cell_type": "code",
   "execution_count": 23,
   "id": "25a8563b-c10c-46c9-b25c-2a27f1ae706b",
   "metadata": {},
   "outputs": [
    {
     "name": "stdout",
     "output_type": "stream",
     "text": [
      "85\n"
     ]
    }
   ],
   "source": [
    "student={\n",
    "    'name':'John',\n",
    "    'grades':{\n",
    "      'math':90,\n",
    "       'science':85\n",
    "       }\n",
    "}\n",
    "science_grade=student['grades']['science']\n",
    "print(science_grade)\n"
   ]
  },
  {
   "cell_type": "code",
   "execution_count": 26,
   "id": "5aa7d996-7ade-41c8-b90b-7b02d181622f",
   "metadata": {},
   "outputs": [
    {
     "name": "stdout",
     "output_type": "stream",
     "text": [
      "False\n",
      "False\n"
     ]
    }
   ],
   "source": [
    "def is_valid(card):\n",
    "    card=card.replace(' ',\").replace('-',\")\n",
    "    return(len(card)==16 and\n",
    "           card.isdigit() and\n",
    "           card[0] in '456' and\n",
    "           not any (card[i]*4==card[i:i+4] for i in range(13)))\n",
    "print(is_valid(\"5123-4567-8912-3456\"))\n",
    "print(is_valid(\"4123 4567 8912 4444\"))"
   ]
  },
  {
   "cell_type": "code",
   "execution_count": 30,
   "id": "8846be40-62ff-4948-8c30-5b98033f0030",
   "metadata": {},
   "outputs": [
    {
     "ename": "SyntaxError",
     "evalue": "invalid syntax (2867826582.py, line 4)",
     "output_type": "error",
     "traceback": [
      "\u001b[1;36m  Cell \u001b[1;32mIn[30], line 4\u001b[1;36m\u001b[0m\n\u001b[1;33m    return re.fullmatch(pattern,number)is noy None\u001b[0m\n\u001b[1;37m                                              ^\u001b[0m\n\u001b[1;31mSyntaxError\u001b[0m\u001b[1;31m:\u001b[0m invalid syntax\n"
     ]
    }
   ],
   "source": [
    "import re\n",
    "def is_valid_mobile(number):\n",
    "    pattern=r'^[0-9]{10}$'\n",
    "    return re.fullmatch(pattern,number)is noy None\n",
    "print(is_valid_mobile(\"0171234567\"))\n",
    "print(is_valid_mobile(\"01712345678\"))\n",
    "print(is_valid_mobile(\"1234567890\"))\n",
    "print(is_valid_mobile(\"12345abc90\"))"
   ]
  },
  {
   "cell_type": "code",
   "execution_count": 31,
   "id": "51bf577e-6e41-4965-a1fe-2ef6a5a60a16",
   "metadata": {},
   "outputs": [
    {
     "ename": "SyntaxError",
     "evalue": "unterminated string literal (detected at line 3) (949371111.py, line 3)",
     "output_type": "error",
     "traceback": [
      "\u001b[1;36m  Cell \u001b[1;32mIn[31], line 3\u001b[1;36m\u001b[0m\n\u001b[1;33m    cleaned=re.sub(r'[A-Za-z0-9]+',\",test)\u001b[0m\n\u001b[1;37m                                   ^\u001b[0m\n\u001b[1;31mSyntaxError\u001b[0m\u001b[1;31m:\u001b[0m unterminated string literal (detected at line 3)\n"
     ]
    }
   ],
   "source": [
    "import re\n",
    "text=\"Hello!This@ is #a$ test:string.\"\n",
    "cleaned=re.sub(r'[A-Za-z0-9]+',\",test)\n",
    "print(cleaned)"
   ]
  },
  {
   "cell_type": "code",
   "execution_count": 39,
   "id": "17e9cd9c-23b4-4ad0-99e4-b0dd6ac7220e",
   "metadata": {},
   "outputs": [
    {
     "ename": "TypeError",
     "evalue": "Rectangle() takes no arguments",
     "output_type": "error",
     "traceback": [
      "\u001b[1;31m---------------------------------------------------------------------------\u001b[0m",
      "\u001b[1;31mTypeError\u001b[0m                                 Traceback (most recent call last)",
      "Cell \u001b[1;32mIn[39], line 9\u001b[0m\n\u001b[0;32m      7\u001b[0m     \u001b[38;5;28;01mdef\u001b[39;00m \u001b[38;5;21mperimeter\u001b[39m(\u001b[38;5;28mself\u001b[39m):\n\u001b[0;32m      8\u001b[0m         \u001b[38;5;28;01mreturn\u001b[39;00m \u001b[38;5;241m2\u001b[39m\u001b[38;5;241m*\u001b[39m(\u001b[38;5;28mself\u001b[39m\u001b[38;5;241m.\u001b[39mlength\u001b[38;5;241m+\u001b[39m\u001b[38;5;28mself\u001b[39m\u001b[38;5;241m.\u001b[39mwidth)\n\u001b[1;32m----> 9\u001b[0m r\u001b[38;5;241m=\u001b[39mRectangle(\u001b[38;5;241m10\u001b[39m,\u001b[38;5;241m5\u001b[39m)\n\u001b[0;32m     10\u001b[0m \u001b[38;5;28mprint\u001b[39m(\u001b[38;5;124m\"\u001b[39m\u001b[38;5;124mArea:\u001b[39m\u001b[38;5;124m\"\u001b[39m,r\u001b[38;5;241m.\u001b[39marea())\n\u001b[0;32m     11\u001b[0m \u001b[38;5;28mprint\u001b[39m(\u001b[38;5;124m\"\u001b[39m\u001b[38;5;124mPerimeter:\u001b[39m\u001b[38;5;124m\"\u001b[39m,r\u001b[38;5;241m.\u001b[39mperimeter())\n",
      "\u001b[1;31mTypeError\u001b[0m: Rectangle() takes no arguments"
     ]
    }
   ],
   "source": [
    "class Rectangle:\n",
    "    def init (self,length,width):\n",
    "       self.length=length\n",
    "       self.width=width\n",
    "    def area(self):\n",
    "        return self.length*self.width\n",
    "    def perimeter(self):\n",
    "        return 2*(self.length+self.width)\n",
    "r=Rectangle(10,5)\n",
    "print(\"Area:\",r.area())\n",
    "print(\"Perimeter:\",r.perimeter())\n",
    "        "
   ]
  },
  {
   "cell_type": "code",
   "execution_count": 38,
   "id": "9aa46d19-e92c-4d3f-a329-cdab0baa3702",
   "metadata": {},
   "outputs": [
    {
     "ename": "TypeError",
     "evalue": "BankAccount() takes no arguments",
     "output_type": "error",
     "traceback": [
      "\u001b[1;31m---------------------------------------------------------------------------\u001b[0m",
      "\u001b[1;31mTypeError\u001b[0m                                 Traceback (most recent call last)",
      "Cell \u001b[1;32mIn[38], line 11\u001b[0m\n\u001b[0;32m      9\u001b[0m         \u001b[38;5;28;01melse\u001b[39;00m:\n\u001b[0;32m     10\u001b[0m             \u001b[38;5;28mself\u001b[39m\u001b[38;5;241m.\u001b[39mbalance\u001b[38;5;241m-\u001b[39m\u001b[38;5;241m=\u001b[39mamount\n\u001b[1;32m---> 11\u001b[0m acc\u001b[38;5;241m=\u001b[39mBankAccount(\u001b[38;5;241m1000\u001b[39m)\n\u001b[0;32m     12\u001b[0m acc\u001b[38;5;241m.\u001b[39mdeposit(\u001b[38;5;241m500\u001b[39m)\n\u001b[0;32m     13\u001b[0m acc\u001b[38;5;241m.\u001b[39mwithdraw(\u001b[38;5;241m200\u001b[39m)\n",
      "\u001b[1;31mTypeError\u001b[0m: BankAccount() takes no arguments"
     ]
    }
   ],
   "source": [
    "class BankAccount:\n",
    "    def init (self,balance=0):\n",
    "       self.balance=balance\n",
    "    def deposit(self,amount):\n",
    "        self.balance+=amount\n",
    "    def withdraw(self,amount):\n",
    "        if amount>self.balance:\n",
    "            print(\"Insufficient balance!\")\n",
    "        else:\n",
    "            self.balance-=amount\n",
    "acc=BankAccount(1000)\n",
    "acc.deposit(500)\n",
    "acc.withdraw(200)\n",
    "acc.withdraw(2000)\n",
    "print(\"Final Balance:\",acc.balance)"
   ]
  },
  {
   "cell_type": "code",
   "execution_count": null,
   "id": "e063517c-a229-429b-85fd-133409783889",
   "metadata": {},
   "outputs": [],
   "source": []
  }
 ],
 "metadata": {
  "kernelspec": {
   "display_name": "Python 3 (ipykernel)",
   "language": "python",
   "name": "python3"
  },
  "language_info": {
   "codemirror_mode": {
    "name": "ipython",
    "version": 3
   },
   "file_extension": ".py",
   "mimetype": "text/x-python",
   "name": "python",
   "nbconvert_exporter": "python",
   "pygments_lexer": "ipython3",
   "version": "3.12.7"
  }
 },
 "nbformat": 4,
 "nbformat_minor": 5
}
